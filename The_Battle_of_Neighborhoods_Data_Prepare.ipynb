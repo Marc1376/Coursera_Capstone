{
 "cells": [
  {
   "cell_type": "markdown",
   "metadata": {},
   "source": [
    "# Explore Pattern Between The Amount of Taxi Engagemeng/Disengagement and Neighborhoods in New York City"
   ]
  },
  {
   "cell_type": "markdown",
   "metadata": {},
   "source": [
    "## Introduction\n",
    "Imaging someone is looking for his/her own chance in running a personal cab bussiness in a city like New York.  A few questions may need to be answered:  \n",
    "\n",
    "- Where (which zone) should he/she start?  \n",
    "- What's the right expectation (e.g. income)?   \n",
    "\n",
    "Normally, a new taxi driver may need several monthes to figure this out.  \n",
    "\n",
    "In this submission I will explore New York City taxi trip records and try to find a general pattern between taxi pickup/drop-off and neighborhoods."
   ]
  },
  {
   "cell_type": "markdown",
   "metadata": {},
   "source": [
    "### About Data\n",
    "The whole practice will use several different data sources.  \n",
    "\n",
    "**Taxi Trip Data**  \n",
    "https://www1.nyc.gov/site/tlc/about/tlc-trip-record-data.page provides \"Data of trips taken by taxis and for-hire vehicles in New York City\".  \"The yellow and green taxi trip records include fields capturing pick-up and drop-off dates/times, pick-up and drop-off locations, trip distances, itemized fares, rate types, payment types, and driver-reported passenger counts\".  I'll use pick-up/drop-off dates/times and locations in green taxi trip data for this practice.\n",
    "\n",
    "**Foursquare Location Data**  \n",
    "The Green taxi pick-up/drop-off locations nearby venue info can be queried via Foursquare API.  And the nearby venue info will be used for neighborhood segmentation and clustering.\n",
    "\n",
    "**Latitude and Longitude of Location**  \n",
    "The code to request Latitude and longitude information would look something like this:"
   ]
  },
  {
   "cell_type": "code",
   "execution_count": 3,
   "metadata": {},
   "outputs": [
    {
     "name": "stdout",
     "output_type": "stream",
     "text": [
      "{'address': 'Alphabet City', 'bbox': {'northeast': [40.73099000000003, -73.97556999999995], 'southwest': [40.72099000000002, -73.98556999999994]}, 'confidence': 7, 'lat': 40.725990000000024, 'lng': -73.98056999999994, 'ok': True, 'quality': 'POI', 'raw': {'name': 'Alphabet City', 'extent': {'xmin': -73.98556999999994, 'ymin': 40.72099000000002, 'xmax': -73.97556999999995, 'ymax': 40.73099000000003}, 'feature': {'geometry': {'x': -73.98056999999994, 'y': 40.725990000000024}, 'attributes': {'Score': 100, 'Addr_Type': 'POI'}}}, 'score': 100, 'status': 'OK'}\n",
      "The geograpical coordinate of East Harlem North, Manhattan are 40.725990000000024, -73.98056999999994.\n"
     ]
    }
   ],
   "source": [
    "import geocoder\n",
    "\n",
    "g = geocoder.arcgis('Alphabet City, Manhattan')\n",
    "print(g.json)\n",
    "latitude = g.lat\n",
    "longitude = g.lng\n",
    "print('The geograpical coordinate of East Harlem North, Manhattan are {}, {}.'.format(latitude, longitude))"
   ]
  }
 ],
 "metadata": {
  "kernelspec": {
   "display_name": "Python 3",
   "language": "python",
   "name": "python3"
  },
  "language_info": {
   "codemirror_mode": {
    "name": "ipython",
    "version": 3
   },
   "file_extension": ".py",
   "mimetype": "text/x-python",
   "name": "python",
   "nbconvert_exporter": "python",
   "pygments_lexer": "ipython3",
   "version": "3.8.1"
  }
 },
 "nbformat": 4,
 "nbformat_minor": 4
}
